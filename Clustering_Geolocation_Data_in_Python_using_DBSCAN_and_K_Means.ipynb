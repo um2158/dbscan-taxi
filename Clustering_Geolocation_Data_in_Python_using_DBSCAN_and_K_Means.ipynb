{
  "nbformat": 4,
  "nbformat_minor": 0,
  "metadata": {
    "colab": {
      "provenance": []
    },
    "kernelspec": {
      "name": "python3",
      "display_name": "Python 3"
    },
    "language_info": {
      "name": "python"
    }
  },
  "cells": [
    {
      "cell_type": "code",
      "execution_count": 1,
      "metadata": {
        "colab": {
          "base_uri": "https://localhost:8080/"
        },
        "id": "25ten5muRnbW",
        "outputId": "d2d35cc9-08b9-4c6f-b6b3-7d3229479cb7"
      },
      "outputs": [
        {
          "output_type": "stream",
          "name": "stdout",
          "text": [
            "Looking in indexes: https://pypi.org/simple, https://us-python.pkg.dev/colab-wheels/public/simple/\n",
            "Collecting hdbscan\n",
            "  Downloading hdbscan-0.8.28.tar.gz (5.2 MB)\n",
            "\u001b[K     |████████████████████████████████| 5.2 MB 37.0 MB/s \n",
            "\u001b[?25h  Installing build dependencies ... \u001b[?25l\u001b[?25hdone\n",
            "  Getting requirements to build wheel ... \u001b[?25l\u001b[?25hdone\n",
            "    Preparing wheel metadata ... \u001b[?25l\u001b[?25hdone\n",
            "Requirement already satisfied: joblib>=1.0 in /usr/local/lib/python3.7/dist-packages (from hdbscan) (1.1.0)\n",
            "Requirement already satisfied: numpy>=1.20 in /usr/local/lib/python3.7/dist-packages (from hdbscan) (1.21.6)\n",
            "Requirement already satisfied: scikit-learn>=0.20 in /usr/local/lib/python3.7/dist-packages (from hdbscan) (1.0.2)\n",
            "Requirement already satisfied: cython>=0.27 in /usr/local/lib/python3.7/dist-packages (from hdbscan) (0.29.32)\n",
            "Requirement already satisfied: scipy>=1.0 in /usr/local/lib/python3.7/dist-packages (from hdbscan) (1.7.3)\n",
            "Requirement already satisfied: threadpoolctl>=2.0.0 in /usr/local/lib/python3.7/dist-packages (from scikit-learn>=0.20->hdbscan) (3.1.0)\n",
            "Building wheels for collected packages: hdbscan\n",
            "  Building wheel for hdbscan (PEP 517) ... \u001b[?25l\u001b[?25hdone\n",
            "  Created wheel for hdbscan: filename=hdbscan-0.8.28-cp37-cp37m-linux_x86_64.whl size=2340235 sha256=77d0eaf0ad9f6eba61c58749f174fdb28888c1c35c393eb4be7867c0ff6783f9\n",
            "  Stored in directory: /root/.cache/pip/wheels/6e/7a/5e/259ccc841c085fc41b99ef4a71e896b62f5161f2bc8a14c97a\n",
            "Successfully built hdbscan\n",
            "Installing collected packages: hdbscan\n",
            "Successfully installed hdbscan-0.8.28\n"
          ]
        }
      ],
      "source": [
        "pip install hdbscan"
      ]
    },
    {
      "cell_type": "code",
      "source": [
        "from collections import defaultdict\n",
        "from ipywidgets import interactive\n",
        "import hdbscan\n",
        "import folium\n",
        "import re\n",
        "import matplotlib\n",
        "%matplotlib inline\n",
        "%config InlineBackend.figure_format = 'svg'\n",
        "import matplotlib.pyplot as plt\n",
        "plt.style.use('ggplot')\n",
        "import pandas as pd\n",
        "import numpy as np\n",
        "from tqdm import tqdm\n",
        "from sklearn.cluster import KMeans, DBSCAN\n",
        "from sklearn.metrics import silhouette_score\n",
        "from sklearn.datasets import make_blobs\n",
        "from sklearn.neighbors import KNeighborsClassifier"
      ],
      "metadata": {
        "id": "8kyBwWvoWbWD"
      },
      "execution_count": null,
      "outputs": []
    },
    {
      "cell_type": "code",
      "source": [
        "cols = ['#e6194b', '#3cb44b', '#ffe119', '#4363d8', '#f58231', '#911eb4','#46f0f0', '#f032e6', '#bcf60c', '#fabebe', '#008080', '#e6beff', '#9a6324', '#fffac8', '#800000', '#aaffc3', '#808000', '#ffd8b1', '#000075', '#808080']*10"
      ],
      "metadata": {
        "id": "xs2aLOGxWjcU"
      },
      "execution_count": null,
      "outputs": []
    },
    {
      "cell_type": "code",
      "source": [
        "df= pd.read_csv('Path to data file')\n",
        "df.head()"
      ],
      "metadata": {
        "id": "-tlt0Ed8WuCc"
      },
      "execution_count": null,
      "outputs": []
    },
    {
      "cell_type": "code",
      "source": [
        "df.duplicated(subset=['LON', 'LAT']).values.any()"
      ],
      "metadata": {
        "id": "V2RFOujwWxdw"
      },
      "execution_count": null,
      "outputs": []
    },
    {
      "cell_type": "code",
      "source": [
        "df.isna().values.any()"
      ],
      "metadata": {
        "id": "1nhm6p6bWzxW"
      },
      "execution_count": null,
      "outputs": []
    },
    {
      "cell_type": "code",
      "source": [
        "print(f'Before (Nulls and Duplicates) \\t:\\tdf.shape = {df.shape}')\n",
        "df.dropna(inplace=True)\n",
        "df.drop_duplicates(subset=['LON','LAT'],keep ='first', inplace=True)\n",
        "print(f'After (Nulls and Duplicates) \\t:\\tdf.shape = {df.shape}')"
      ],
      "metadata": {
        "id": "eDI2t-7tW19y"
      },
      "execution_count": null,
      "outputs": []
    },
    {
      "cell_type": "code",
      "source": [
        "df.head()"
      ],
      "metadata": {
        "id": "fxDURcM2W34c"
      },
      "execution_count": null,
      "outputs": []
    },
    {
      "cell_type": "code",
      "source": [
        "X= np.array(df[['LON','LAT']],dtype='float64')\n",
        "plt.scatter(X[:,0],X[:,1],alpha =0.2,s=50)"
      ],
      "metadata": {
        "id": "AAUlFH1EW53X"
      },
      "execution_count": null,
      "outputs": []
    },
    {
      "cell_type": "code",
      "source": [
        "pip install folium"
      ],
      "metadata": {
        "id": "Gf3vhQCzXA12"
      },
      "execution_count": null,
      "outputs": []
    },
    {
      "cell_type": "code",
      "source": [
        "m= folium.Map(location=[df.LAT.mean(),df.LON.mean()],zoom_start=9,\n",
        "             tiles='Stamen Toner')\n",
        "for _, row in df.iterrows():\n",
        "    folium.CircleMarker(\n",
        "    location=[row.LAT,row.LON],\n",
        "    radius=5,\n",
        "    popup = re.sub(r'[^a-zA-Z]+','',row.NAME),\n",
        "    color='#1787FE',\n",
        "    fill=True,\n",
        "    fill_color='#1787FE').add_to(m)\n",
        "m"
      ],
      "metadata": {
        "id": "WPRy4VUqXD6i"
      },
      "execution_count": null,
      "outputs": []
    },
    {
      "cell_type": "code",
      "source": [
        "X_blobs,_=make_blobs(n_samples=1000,centers=10,\n",
        "                    n_features=2,cluster_std=0.5,random_state=4)\n",
        "plt.scatter(X_blobs[:,0],X_blobs[:,1],alpha=0.2)"
      ],
      "metadata": {
        "id": "EgLLamxzXGeX"
      },
      "execution_count": null,
      "outputs": []
    },
    {
      "cell_type": "code",
      "source": [
        "class_predictions = np.load('/Path to file/sample_clusters.npy')\n",
        "unique_clusters = np.unique(class_predictions)\n",
        "for unique_clusters in unique_clusters:\n",
        "    X=X_blobs[class_predictions==unique_clusters]\n",
        "    plt.scatter(X[:,0],X[:,1],alpha=0.2,c=cols[unique_clusters])"
      ],
      "metadata": {
        "id": "IMHYH7fBXIoX"
      },
      "execution_count": null,
      "outputs": []
    },
    {
      "cell_type": "code",
      "source": [
        "silhouette_score(X_blobs,class_predictions)"
      ],
      "metadata": {
        "id": "fq8Oj0_nXKx_"
      },
      "execution_count": null,
      "outputs": []
    },
    {
      "cell_type": "code",
      "source": [
        "class_predictions = np.load('Path to file/sample_clusters_improved.npy')\n",
        "unique_clusters = np.unique(class_predictions)\n",
        "for unique_clusters in unique_clusters:\n",
        "    X=X_blobs[class_predictions==unique_clusters]\n",
        "    plt.scatter(X[:,0],X[:,1],alpha=0.2,c=cols[unique_clusters])"
      ],
      "metadata": {
        "id": "ta6mGHBMXchv"
      },
      "execution_count": null,
      "outputs": []
    },
    {
      "cell_type": "code",
      "source": [
        "silhouette_score(X_blobs,class_predictions)"
      ],
      "metadata": {
        "id": "ocY_mD7dXfZz"
      },
      "execution_count": null,
      "outputs": []
    },
    {
      "cell_type": "code",
      "source": [
        "X_blobs, _ = make_blobs(n_samples=1000, centers=50, \n",
        "                        n_features=2, cluster_std=1, random_state=4)\n",
        "data = defaultdict(dict)\n",
        "for x in range(1,21):\n",
        "    model = KMeans(n_clusters=3, random_state=17, \n",
        "                   max_iter=x, n_init=1).fit(X_blobs)\n",
        "    \n",
        "    data[x]['class_predictions'] = model.predict(X_blobs)\n",
        "    data[x]['centroids'] = model.cluster_centers_\n",
        "    data[x]['unique_classes'] = np.unique(class_predictions)\n",
        "def f(x):\n",
        "    class_predictions = data[x]['class_predictions']\n",
        "    centroids = data[x]['centroids']\n",
        "    unique_classes = data[x]['unique_classes']\n",
        "for unique_class in unique_classes:\n",
        "    plt.scatter(X_blobs[class_predictions==unique_class][:,0], X_blobs[class_predictions==unique_class][:,1], alpha=0.3, c=cols[unique_class])\n",
        "    plt.scatter(centroids[:,0], centroids[:,1], s=200, c='#000000', marker='v')\n",
        "    plt.ylim([-15,15]); plt.xlim([-15,15])\n",
        "    plt.title('How K-Means Clusters')\n",
        "interactive_plot = interactive(f, x=(1, 20))\n",
        "output = interactive_plot.children[-1]\n",
        "output.layout.height = '350px'\n",
        "interactive_plot"
      ],
      "metadata": {
        "id": "BMTo_kcqXjSU"
      },
      "execution_count": null,
      "outputs": []
    },
    {
      "cell_type": "code",
      "source": [
        "X=np.array(df[['LON','LAT']],dtype='float64')\n",
        "k=70\n",
        "model = KMeans(n_clusters=k,random_state=17).fit(X)\n",
        "class_predictions=model.predict(X)\n",
        "df[f'CLUSTER_kmeans{k}'] = class_predictions\n",
        "df.head()"
      ],
      "metadata": {
        "id": "NXykLiOjXryB"
      },
      "execution_count": null,
      "outputs": []
    },
    {
      "cell_type": "code",
      "source": [
        "def create_map(df,cluster_column):\n",
        "    m = folium.Map(location=[df.LAT.mean(), df.LON.mean()], zoom_start=9, tiles='Stamen Toner')\n",
        "for _, row in df.iterrows():\n",
        "# get a colour\n",
        "        if row[cluster_column]==-1:\n",
        "            cluster_colour= '#000000'\n",
        "        else:\n",
        "            cluster_colour = cols[row[cluster_column]]\n",
        "folium.CircleMarker(\n",
        "            location= [row['LAT'],row['LON']],# insert here,\n",
        "            radius=5,\n",
        "            popup= row[cluster_column],# insert here,\n",
        "            color=cluster_colour,\n",
        "            fill=True,\n",
        "            fill_color=cluster_colour\n",
        "        ).add_to(m)\n",
        "    return m\n",
        "m=create_map(df,'CLUSTER_kmeans70')\n",
        "print(f'K={k}')\n",
        "print(f'Silhouette Score: {silhouette_score(X, class_predictions)}')"
      ],
      "metadata": {
        "id": "Vj_9GNYgXvTD"
      },
      "execution_count": null,
      "outputs": []
    },
    {
      "cell_type": "code",
      "source": [
        "m"
      ],
      "metadata": {
        "id": "0CwUdcIvXxwN"
      },
      "execution_count": null,
      "outputs": []
    },
    {
      "cell_type": "code",
      "source": [
        "best_silhouette, best_k = -1, 0\n",
        "for k in tqdm(range(2, 100)):\n",
        "    model = KMeans(n_clusters=k, random_state=1).fit(X)\n",
        "    class_predictions = model.predict(X)\n",
        "    \n",
        "    curr_silhouette = silhouette_score(X, class_predictions)\n",
        "    if curr_silhouette > best_silhouette:\n",
        "        best_k = k\n",
        "        best_silhouette = curr_silhouette\n",
        "        \n",
        "print(f'K={best_k}')\n",
        "print(f'Silhouette Score: {best_silhouette}')"
      ],
      "metadata": {
        "id": "tHNQ_JfzX0Ou"
      },
      "execution_count": null,
      "outputs": []
    },
    {
      "cell_type": "code",
      "source": [
        "dummy = np.array([-1, -1, -1, 2, 3, 4, 5])\n",
        "new = np.array([(counter+2)*x if x==-1 else x for counter, x in enumerate(dummy)])\n",
        "model = DBSCAN(eps=0.01,min_samples=5).fit(X)\n",
        "class_predictions= model.labels_\n",
        "df['CLUSTER_DBSCAN'] = class_predictions"
      ],
      "metadata": {
        "id": "QkJpQdYkX5zk"
      },
      "execution_count": null,
      "outputs": []
    },
    {
      "cell_type": "code",
      "source": [
        "m = create_map(df,'CLUSTER_DBSCAN')\n",
        "print(f'Number of clusters found: {len(np.unique(class_predictions))}')\n",
        "print(f'Number of outliers found: {len(class_predictions[class_predictions==-1])}')\n",
        "print(f'Silhouette ignoring outliers: {silhouette_score(X[class_predictions!=-1], class_predictions[class_predictions!=-1])}')\n",
        "no_outliers = 0\n",
        "no_outliers = np.array([(counter+2)*x if x==-1 else x for counter, x in enumerate(class_predictions)])\n",
        "print(f'Silhouette outliers as singletons: {silhouette_score(X, no_outliers)}')"
      ],
      "metadata": {
        "id": "-PQCs7qSX8Zq"
      },
      "execution_count": null,
      "outputs": []
    },
    {
      "cell_type": "code",
      "source": [
        "m"
      ],
      "metadata": {
        "id": "K3plZ3d3X-f-"
      },
      "execution_count": null,
      "outputs": []
    },
    {
      "cell_type": "code",
      "source": [
        "model=hdbscan.HDBSCAN(min_cluster_size=5, min_samples=2,\n",
        "                      cluster_selection_epsilon=0.01)\n",
        "class_predictions=model.fit_predict(X)\n",
        "df['CLUSTER_HDBSCAN'] = class_predictions"
      ],
      "metadata": {
        "id": "fW1XuIPyYE1U"
      },
      "execution_count": null,
      "outputs": []
    },
    {
      "cell_type": "code",
      "source": [
        "m=create_map(df,'CLUSTER_HDBSCAN')\n",
        "print(f'Number of clusters found: {len(np.unique(class_predictions))-1}')\n",
        "print(f'Number of outliers found: {len(class_predictions[class_predictions==-1])}')\n",
        "print(f'Silhouette ignoring outliers: {silhouette_score(X[class_predictions!=-1], class_predictions[class_predictions!=-1])}')\n",
        "no_outliers = np.array([(counter+2)*x if x==-1 else x for counter, x in enumerate(class_predictions)])\n",
        "print(f'Silhouette outliers as singletons: {silhouette_score(X, no_outliers)}')\n",
        "m"
      ],
      "metadata": {
        "id": "YJjzi_pHYG66"
      },
      "execution_count": null,
      "outputs": []
    },
    {
      "cell_type": "code",
      "source": [
        "classifier=KNeighborsClassifier(n_neighbors=1)\n",
        "df_train=df[df.CLUSTER_HDBSCAN!=-1]\n",
        "df_predict=df[df.CLUSTER_HDBSCAN ==-1]\n",
        "x_train = np.array(df_train[['LON','LAT']],dtype='float64')\n",
        "y_train = np.array(df_train['CLUSTER_HDBSCAN'])\n",
        "X_predict = np.array(df_predict[['LON','LAT']],dtype='float64')\n",
        "classifier.fit(x_train,y_train)\n",
        "predictions = classifier.predict(X_predict)\n",
        "df['CLUSTER_hybrid'] = df['CLUSTER_HDBSCAN']\n",
        "df.loc[df.CLUSTER_HDBSCAN==-1,'CLUSTER_hybrid'] = predictions\n",
        "m= create_map(df,'CLUSTER_hybrid')\n",
        "m"
      ],
      "metadata": {
        "id": "85FYlAiVYKvb"
      },
      "execution_count": null,
      "outputs": []
    },
    {
      "cell_type": "code",
      "source": [
        "class_predictions=df.CLUSTER_hybrid\n",
        "print(f'Number of clusters found: {len(np.unique(class_predictions))}')\n",
        "print(f'Silhouette: {silhouette_score(X, class_predictions)}')\n",
        "m.save('hybrid.html')"
      ],
      "metadata": {
        "id": "Q0ltkpKXYM_O"
      },
      "execution_count": null,
      "outputs": []
    },
    {
      "cell_type": "code",
      "source": [
        "df['CLUSTER_hybrid'].value_counts().plot.hist(bins=70,\n",
        "                                              alpha=0.4,label='Hybrid')\n",
        "df['CLUSTER_kmeans70'].value_counts().plot.hist(bins=70,\n",
        "                                alpha=0.4,label='K-Means(70)')\n",
        "plt.legend()\n",
        "plt.xlabel('Cluster Sizes')"
      ],
      "metadata": {
        "id": "q7hezkRWYPaT"
      },
      "execution_count": null,
      "outputs": []
    }
  ]
}